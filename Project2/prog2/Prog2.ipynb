{
 "cells": [
  {
   "cell_type": "code",
   "execution_count": 49,
   "id": "983b67a6-2ce4-4ef2-83a7-df717817cae9",
   "metadata": {},
   "outputs": [
    {
     "name": "stdout",
     "output_type": "stream",
     "text": [
      "Requirement already satisfied: jdc in /home/pedromarques27/anaconda3/lib/python3.9/site-packages (0.0.9)\n",
      "Note: you may need to restart the kernel to use updated packages.\n"
     ]
    }
   ],
   "source": [
    "pip install jdc"
   ]
  },
  {
   "cell_type": "code",
   "execution_count": 50,
   "id": "0eb358f9-cf14-478a-a60d-25cc42a38436",
   "metadata": {},
   "outputs": [],
   "source": [
    "import glob\n",
    "import itertools\n",
    "import logging\n",
    "import math\n",
    "import multiprocessing\n",
    "from pkgutil import iter_modules\n",
    "import queue\n",
    "import random\n",
    "import shutil\n",
    "import threading\n",
    "import time\n",
    "from pyspark import SparkConf, SparkContext, StorageLevel\n",
    "import pyspark as sp\n",
    "from datetime import datetime\n",
    "import re\n",
    "import sys\n",
    "from scipy import spatial\n",
    "import os\n",
    "from itertools import combinations\n",
    "import more_itertools as mit\n",
    "from pyspark.sql import SparkSession\n",
    "import jdc\n",
    "import pandas as pd\n",
    "\n",
    "import findspark\n",
    "findspark.init()\n"
   ]
  },
  {
   "cell_type": "markdown",
   "id": "93b17ec2-9975-415f-b890-6a63d7cd7d37",
   "metadata": {},
   "source": [
    "## Class Item-item Collaborative Filtering Algorithm\n",
    "This class implements all the methods needed to run the CF algorithm over the given ratings.csv file.  \n"
   ]
  },
  {
   "cell_type": "code",
   "execution_count": 51,
   "id": "41f06d00-0bfc-4832-ab99-edd9ae9ec9e3",
   "metadata": {},
   "outputs": [],
   "source": [
    "\n",
    "# This script contains the implementation of the apriori algorithm for finding frequent item sets\n",
    "class CFItemItem:\n",
    "\n",
    "    def __init__(self, rat_file, rec_output, sim_threshold,  part_size = 100000):\n",
    "        \n",
    "        self.spark = SparkContext.getOrCreate()\n",
    "        self.sparkSession = SparkSession(self.spark)\n",
    "        self.spark.setLogLevel(\"ERROR\")\n",
    "        \n",
    "        self.rat_file = rat_file                      # ratings file\n",
    "        self.output_folder = \"CFItemItem\"             # folder where to store results and other data\n",
    "        self.output_file = rec_output                 # Output file where to save results\n",
    "        self.sim_threshold = float(sim_threshold)     # similarity threshold\n",
    "        self.movie_ratings = dict()\n",
    "        self.movie_ratings_userlist = dict()\n",
    "        self.partition_size = part_size\n",
    "    \n",
    "    # Encerra a spark session  \n",
    "    def close(self):\n",
    "        self.spark.stop()\n",
    "    \n",
    "    # clears the output folder and deletes all of its contents\n",
    "    def clear_output_folder(self):\n",
    "        if os.path.exists(self.output_folder):\n",
    "            shutil.rmtree(self.output_folder)\n",
    "        os.mkdir(self.output_folder)"
   ]
  },
  {
   "cell_type": "markdown",
   "id": "ea1023c4-9c02-4e20-8462-9cb2a71af42e",
   "metadata": {},
   "source": [
    "**Arguments**\n",
    "> -rf rat_file: Filename with of the ratings.  \n",
    "> -o  rec_output: filepath where the final calculated ratings are scored.   \n",
    "> -t  sim_threashold: similarity threshold, only movies with similarity above are considered similar.    \n",
    "> --partition-size part_size: number of similar movie pairs saved by partition.  "
   ]
  },
  {
   "cell_type": "code",
   "execution_count": 52,
   "id": "f3c4f575-f4d9-4126-bb8b-69d373e06dcd",
   "metadata": {},
   "outputs": [],
   "source": [
    "pd.set_option('max_colwidth', 400)\n",
    "sys.argv  = [\"collab_filtering.py\",\"-mf\",\"movies.csv\",\"-rf\",\"ratings.csv\",\"-o\",\"results\",\"-t\",\"0.5\",\"-lm\"]\n",
    "params = [\"-mf\", \"-rf\", \"-o\",\"-t\"]\n",
    "if len(set([x for x in params if x in sys.argv])) !=4:\n",
    "    print(\"Incorrect Parameters\\n\")\n",
    "    print(\"Use: \\n-rf Filename_of_User_Ratings(String)\\n-o recommendation_output_file(String)\\n-t similarity_threshold(Double/Float)\")\n",
    "    sys.exit(-1)\n",
    "    \n",
    "partSize = 100000\n",
    "for i in range(8):\n",
    "    if sys.argv[i+1] == \"-rf\":\n",
    "        r_filename = sys.argv[i+2]\n",
    "\n",
    "    elif sys.argv[i+1] == \"-o\":\n",
    "        out = sys.argv[i+2]\n",
    "\n",
    "    elif sys.argv[i+1] == \"-t\":\n",
    "        thresh = sys.argv[i+2]\n",
    "\n",
    "    elif sys.argv[i+1] == \"--partition-size\":\n",
    "        partSize = int(sys.argv[i+2])\n",
    "\n",
    "lm = False\n",
    "if \"-lm\" in sys.argv:\n",
    "    lm = True\n",
    "\n",
    "\n",
    "cfItemItem = CFItemItem(r_filename, out, float(thresh), partSize)"
   ]
  },
  {
   "cell_type": "markdown",
   "id": "f6ea958d-07ee-4d52-861a-8e8319317933",
   "metadata": {},
   "source": [
    "### Load Movie Ratings By Movie\n",
    "Reads the ratings file  \n",
    "Data stored in RDD as MovieId: Array of tuples (UserId, Rating)\n"
   ]
  },
  {
   "cell_type": "code",
   "execution_count": 53,
   "id": "8d984823-d3d1-4a9c-b6ce-ec7c2df678e3",
   "metadata": {},
   "outputs": [],
   "source": [
    "%%add_to CFItemItem                  \n",
    "def load_movie_ratings(self): #Key = movieId, values = [(userId, Rating)...] \n",
    "    textfile = self.spark.textFile(self.rat_file)\n",
    "    self.ratings = textfile.flatMap(lambda line: re.split(r'\\n', line.lower()))\\\n",
    "        .filter(lambda line: len(line.split(\",\"))== 4 and \"movieid\" not in line)\\\n",
    "            .map(lambda line : (line.split(\",\")[1],[(int(line.split(\",\")[0]), float(line.split(\",\")[2]))]))\\\n",
    "                .reduceByKey(lambda a,b: sorted(set(a+b), key = lambda p: p[0]))\\\n",
    "                .sortBy(lambda p: p[0])\n",
    "    \n",
    "    # Gets the maximum user ID\n",
    "    users_ratings = [p[1] for p in self.ratings.collect()]\n",
    "    ids = [x[0] for k in users_ratings for x in k ]\n",
    "    self.max_user_id = max(ids)\n"
   ]
  },
  {
   "cell_type": "code",
   "execution_count": 54,
   "id": "eb2c42cc-8f0d-4417-a389-6d846c8c68be",
   "metadata": {},
   "outputs": [
    {
     "data": {
      "text/html": [
       "<div>\n",
       "<style scoped>\n",
       "    .dataframe tbody tr th:only-of-type {\n",
       "        vertical-align: middle;\n",
       "    }\n",
       "\n",
       "    .dataframe tbody tr th {\n",
       "        vertical-align: top;\n",
       "    }\n",
       "\n",
       "    .dataframe thead th {\n",
       "        text-align: right;\n",
       "    }\n",
       "</style>\n",
       "<table border=\"1\" class=\"dataframe\">\n",
       "  <thead>\n",
       "    <tr style=\"text-align: right;\">\n",
       "      <th></th>\n",
       "      <th>MovieId</th>\n",
       "      <th>(UserId,Rating)</th>\n",
       "    </tr>\n",
       "  </thead>\n",
       "  <tbody>\n",
       "    <tr>\n",
       "      <th>0</th>\n",
       "      <td>1</td>\n",
       "      <td>[(1, 4.0), (5, 4.0), (7, 4.5), (15, 2.5), (17, 4.5), (18, 3.5), (19, 4.0), (21, 3.5), (27, 3.0), (31, 5.0), (32, 3.0), (33, 3.0), (40, 5.0), (43, 5.0), (44, 3.0), (45, 4.0), (46, 5.0), (50, 3.0), (54, 3.0), (57, 5.0), (63, 5.0), (64, 4.0), (66, 4.0), (68, 2.5), (71, 5.0), (73, 4.5), (76, 0.5), (78, 4.0), (82, 2.5), (86, 4.0), (89, 3.0), (90, 3.0), (91, 4.0), (93, 3.0), (96, 5.0), (98, 4.5), (1...</td>\n",
       "    </tr>\n",
       "    <tr>\n",
       "      <th>1</th>\n",
       "      <td>10</td>\n",
       "      <td>[(6, 3.0), (8, 2.0), (11, 3.0), (19, 2.0), (21, 5.0), (26, 3.0), (31, 4.0), (34, 5.0), (42, 5.0), (43, 4.0), (46, 3.0), (56, 4.0), (57, 3.0), (59, 3.0), (63, 3.0), (68, 4.5), (81, 1.0), (82, 3.5), (84, 3.0), (91, 3.5), (93, 4.0), (94, 3.0), (99, 4.0), (104, 3.0), (117, 3.0), (119, 4.0), (136, 5.0), (144, 3.0), (160, 1.0), (166, 4.5), (170, 3.0), (173, 3.0), (174, 3.0), (176, 5.0), (178, 4.0), ...</td>\n",
       "    </tr>\n",
       "    <tr>\n",
       "      <th>2</th>\n",
       "      <td>100</td>\n",
       "      <td>[(6, 3.0), (32, 4.0), (84, 3.0), (181, 3.0), (182, 3.0), (207, 3.0), (297, 1.0), (314, 3.0), (337, 3.0), (444, 3.0), (474, 2.0), (492, 3.0)]</td>\n",
       "    </tr>\n",
       "    <tr>\n",
       "      <th>3</th>\n",
       "      <td>100044</td>\n",
       "      <td>[(318, 4.0)]</td>\n",
       "    </tr>\n",
       "    <tr>\n",
       "      <th>4</th>\n",
       "      <td>100068</td>\n",
       "      <td>[(483, 3.5)]</td>\n",
       "    </tr>\n",
       "    <tr>\n",
       "      <th>...</th>\n",
       "      <td>...</td>\n",
       "      <td>...</td>\n",
       "    </tr>\n",
       "    <tr>\n",
       "      <th>8913</th>\n",
       "      <td>99853</td>\n",
       "      <td>[(89, 4.0)]</td>\n",
       "    </tr>\n",
       "    <tr>\n",
       "      <th>8914</th>\n",
       "      <td>999</td>\n",
       "      <td>[(6, 2.0), (57, 2.0), (156, 4.0), (182, 3.5), (202, 4.0), (294, 2.0), (313, 4.0), (368, 3.0), (385, 3.0), (387, 3.0), (414, 3.0)]</td>\n",
       "    </tr>\n",
       "    <tr>\n",
       "      <th>8915</th>\n",
       "      <td>99910</td>\n",
       "      <td>[(249, 3.5), (380, 3.0)]</td>\n",
       "    </tr>\n",
       "    <tr>\n",
       "      <th>8916</th>\n",
       "      <td>99917</td>\n",
       "      <td>[(567, 3.5)]</td>\n",
       "    </tr>\n",
       "    <tr>\n",
       "      <th>8917</th>\n",
       "      <td>99992</td>\n",
       "      <td>[(448, 3.0)]</td>\n",
       "    </tr>\n",
       "  </tbody>\n",
       "</table>\n",
       "<p>8918 rows × 2 columns</p>\n",
       "</div>"
      ],
      "text/plain": [
       "     MovieId  \\\n",
       "0          1   \n",
       "1         10   \n",
       "2        100   \n",
       "3     100044   \n",
       "4     100068   \n",
       "...      ...   \n",
       "8913   99853   \n",
       "8914     999   \n",
       "8915   99910   \n",
       "8916   99917   \n",
       "8917   99992   \n",
       "\n",
       "                                                                                                                                                                                                                                                                                                                                                                                                      (UserId,Rating)  \n",
       "0     [(1, 4.0), (5, 4.0), (7, 4.5), (15, 2.5), (17, 4.5), (18, 3.5), (19, 4.0), (21, 3.5), (27, 3.0), (31, 5.0), (32, 3.0), (33, 3.0), (40, 5.0), (43, 5.0), (44, 3.0), (45, 4.0), (46, 5.0), (50, 3.0), (54, 3.0), (57, 5.0), (63, 5.0), (64, 4.0), (66, 4.0), (68, 2.5), (71, 5.0), (73, 4.5), (76, 0.5), (78, 4.0), (82, 2.5), (86, 4.0), (89, 3.0), (90, 3.0), (91, 4.0), (93, 3.0), (96, 5.0), (98, 4.5), (1...  \n",
       "1     [(6, 3.0), (8, 2.0), (11, 3.0), (19, 2.0), (21, 5.0), (26, 3.0), (31, 4.0), (34, 5.0), (42, 5.0), (43, 4.0), (46, 3.0), (56, 4.0), (57, 3.0), (59, 3.0), (63, 3.0), (68, 4.5), (81, 1.0), (82, 3.5), (84, 3.0), (91, 3.5), (93, 4.0), (94, 3.0), (99, 4.0), (104, 3.0), (117, 3.0), (119, 4.0), (136, 5.0), (144, 3.0), (160, 1.0), (166, 4.5), (170, 3.0), (173, 3.0), (174, 3.0), (176, 5.0), (178, 4.0), ...  \n",
       "2                                                                                                                                                                                                                                                                        [(6, 3.0), (32, 4.0), (84, 3.0), (181, 3.0), (182, 3.0), (207, 3.0), (297, 1.0), (314, 3.0), (337, 3.0), (444, 3.0), (474, 2.0), (492, 3.0)]  \n",
       "3                                                                                                                                                                                                                                                                                                                                                                                                        [(318, 4.0)]  \n",
       "4                                                                                                                                                                                                                                                                                                                                                                                                        [(483, 3.5)]  \n",
       "...                                                                                                                                                                                                                                                                                                                                                                                                               ...  \n",
       "8913                                                                                                                                                                                                                                                                                                                                                                                                      [(89, 4.0)]  \n",
       "8914                                                                                                                                                                                                                                                                                [(6, 2.0), (57, 2.0), (156, 4.0), (182, 3.5), (202, 4.0), (294, 2.0), (313, 4.0), (368, 3.0), (385, 3.0), (387, 3.0), (414, 3.0)]  \n",
       "8915                                                                                                                                                                                                                                                                                                                                                                                         [(249, 3.5), (380, 3.0)]  \n",
       "8916                                                                                                                                                                                                                                                                                                                                                                                                     [(567, 3.5)]  \n",
       "8917                                                                                                                                                                                                                                                                                                                                                                                                     [(448, 3.0)]  \n",
       "\n",
       "[8918 rows x 2 columns]"
      ]
     },
     "execution_count": 54,
     "metadata": {},
     "output_type": "execute_result"
    }
   ],
   "source": [
    "cfItemItem.load_movie_ratings()\n",
    "df = cfItemItem.ratings.toDF().toPandas()\n",
    "df.columns = [\"MovieId\",\"(UserId,Rating)\"]\n",
    "df"
   ]
  },
  {
   "cell_type": "markdown",
   "id": "d3772abe-7203-4eb0-870b-486c444b8bba",
   "metadata": {},
   "source": [
    "### Load Movie Ratings by User\n",
    "Reads the ratings file  \n",
    "Data stored in RDD as MovieId: Array of tuples (UserId, Rating)\n"
   ]
  },
  {
   "cell_type": "code",
   "execution_count": 55,
   "id": "118dca6a-d24e-463f-82e6-2a1174e54c6c",
   "metadata": {},
   "outputs": [],
   "source": [
    "%%add_to CFItemItem \n",
    "def load_ratings_by_user(self):\n",
    "    textfile = self.spark.textFile(self.rat_file)\n",
    "    self.ratings_by_user = textfile.flatMap(lambda line: re.split(r'\\n', line.lower()))\\\n",
    "        .filter(lambda line: len(line.split(\",\"))== 4 and \"movieid\" not in line)\\\n",
    "            .map(lambda line : (int(line.split(\",\")[0]),[(int(line.split(\",\")[1]), float(line.split(\",\")[2]))]))\\\n",
    "                .reduceByKey(lambda a,b: sorted(set(a+b), key = lambda p: p[0]))\\\n",
    "                .sortBy(lambda p: p[0])"
   ]
  },
  {
   "cell_type": "code",
   "execution_count": 56,
   "id": "998ba638-1bcc-4f18-9683-c24808147c89",
   "metadata": {},
   "outputs": [
    {
     "name": "stderr",
     "output_type": "stream",
     "text": [
      "                                                                                \r"
     ]
    },
    {
     "data": {
      "text/html": [
       "<div>\n",
       "<style scoped>\n",
       "    .dataframe tbody tr th:only-of-type {\n",
       "        vertical-align: middle;\n",
       "    }\n",
       "\n",
       "    .dataframe tbody tr th {\n",
       "        vertical-align: top;\n",
       "    }\n",
       "\n",
       "    .dataframe thead th {\n",
       "        text-align: right;\n",
       "    }\n",
       "</style>\n",
       "<table border=\"1\" class=\"dataframe\">\n",
       "  <thead>\n",
       "    <tr style=\"text-align: right;\">\n",
       "      <th></th>\n",
       "      <th>userId</th>\n",
       "      <th>(Movie,Rating)</th>\n",
       "    </tr>\n",
       "  </thead>\n",
       "  <tbody>\n",
       "    <tr>\n",
       "      <th>0</th>\n",
       "      <td>1</td>\n",
       "      <td>[(1, 4.0), (3, 4.0), (6, 4.0), (47, 5.0), (50, 5.0), (70, 3.0), (101, 5.0), (110, 4.0), (151, 5.0), (157, 5.0), (163, 5.0), (216, 5.0), (223, 3.0), (231, 5.0), (235, 4.0), (260, 5.0), (296, 3.0), (316, 3.0), (333, 5.0), (349, 4.0), (356, 4.0), (362, 5.0), (367, 4.0), (423, 3.0), (441, 4.0), (457, 5.0), (480, 4.0), (500, 3.0), (527, 5.0), (543, 4.0), (552, 4.0), (553, 5.0), (590, 4.0), (592, 4....</td>\n",
       "    </tr>\n",
       "    <tr>\n",
       "      <th>1</th>\n",
       "      <td>2</td>\n",
       "      <td>[(318, 3.0), (333, 4.0), (1704, 4.5), (3578, 4.0), (6874, 4.0), (8798, 3.5), (46970, 4.0), (48516, 4.0), (58559, 4.5), (60756, 5.0), (68157, 4.5), (71535, 3.0), (74458, 4.0), (77455, 3.0), (79132, 4.0), (80489, 4.5), (80906, 5.0), (86345, 4.0), (89774, 5.0), (91529, 3.5), (91658, 2.5), (99114, 3.5), (106782, 5.0), (109487, 3.0), (112552, 4.0), (114060, 2.0), (115713, 3.5), (122882, 5.0), (1317...</td>\n",
       "    </tr>\n",
       "    <tr>\n",
       "      <th>2</th>\n",
       "      <td>3</td>\n",
       "      <td>[(31, 0.5), (527, 0.5), (647, 0.5), (688, 0.5), (720, 0.5), (849, 5.0), (914, 0.5), (1093, 0.5), (1124, 0.5), (1263, 0.5), (1272, 0.5), (1275, 3.5), (1302, 0.5), (1371, 3.0), (1587, 4.5), (2018, 0.5), (2080, 0.5), (2090, 0.5), (2105, 2.0), (2288, 4.0), (2424, 0.5), (2851, 5.0), (3024, 4.5), (3210, 0.5), (3703, 5.0), (3949, 0.5), (4518, 5.0), (5048, 0.5), (5181, 5.0), (5746, 5.0), (5764, 4.5), ...</td>\n",
       "    </tr>\n",
       "    <tr>\n",
       "      <th>3</th>\n",
       "      <td>4</td>\n",
       "      <td>[(21, 3.0), (32, 2.0), (45, 3.0), (47, 2.0), (52, 3.0), (58, 3.0), (106, 4.0), (125, 5.0), (126, 1.0), (162, 5.0), (171, 3.0), (176, 5.0), (190, 2.0), (215, 5.0), (222, 1.0), (232, 5.0), (235, 2.0), (247, 3.0), (260, 5.0), (265, 5.0), (296, 1.0), (319, 5.0), (342, 5.0), (345, 4.0), (348, 4.0), (351, 3.0), (357, 3.0), (368, 4.0), (417, 2.0), (441, 1.0), (450, 2.0), (457, 5.0), (475, 5.0), (492,...</td>\n",
       "    </tr>\n",
       "    <tr>\n",
       "      <th>4</th>\n",
       "      <td>5</td>\n",
       "      <td>[(1, 4.0), (21, 4.0), (34, 4.0), (36, 4.0), (39, 3.0), (50, 4.0), (58, 5.0), (110, 4.0), (150, 3.0), (153, 3.0), (232, 4.0), (247, 5.0), (253, 3.0), (261, 4.0), (265, 3.0), (266, 1.0), (290, 5.0), (296, 5.0), (300, 3.0), (316, 2.0), (318, 3.0), (344, 3.0), (349, 3.0), (357, 2.0), (364, 3.0), (367, 4.0), (380, 2.0), (410, 3.0), (457, 4.0), (474, 4.0), (475, 5.0), (515, 3.0), (527, 5.0), (531, 4...</td>\n",
       "    </tr>\n",
       "    <tr>\n",
       "      <th>...</th>\n",
       "      <td>...</td>\n",
       "      <td>...</td>\n",
       "    </tr>\n",
       "    <tr>\n",
       "      <th>585</th>\n",
       "      <td>586</td>\n",
       "      <td>[(2, 4.0), (110, 5.0), (161, 4.5), (168, 3.5), (185, 3.5), (260, 4.5), (316, 4.0), (318, 5.0), (339, 4.0), (368, 4.0), (380, 4.5), (440, 4.0), (457, 4.5), (527, 2.5), (539, 3.5), (553, 4.5), (587, 4.0), (588, 4.5), (589, 5.0), (733, 4.0), (786, 4.0), (832, 4.0), (858, 3.0), (1073, 4.5), (1097, 4.0), (1196, 4.5), (1198, 5.0), (1200, 5.0), (1210, 4.5), (1221, 3.0), (1265, 4.5), (1270, 4.5), (129...</td>\n",
       "    </tr>\n",
       "    <tr>\n",
       "      <th>586</th>\n",
       "      <td>587</td>\n",
       "      <td>[(1, 5.0), (11, 4.0), (21, 4.0), (32, 5.0), (50, 5.0), (58, 5.0), (141, 4.0), (153, 3.0), (205, 3.0), (235, 4.0), (236, 5.0), (252, 4.0), (296, 5.0), (329, 4.0), (342, 4.0), (344, 3.0), (345, 4.0), (356, 4.0), (357, 3.0), (372, 4.0), (380, 4.0), (432, 4.0), (440, 4.0), (445, 4.0), (497, 4.0), (500, 5.0), (515, 5.0), (534, 4.0), (539, 4.0), (587, 5.0), (590, 5.0), (597, 4.0), (628, 5.0), (691, ...</td>\n",
       "    </tr>\n",
       "    <tr>\n",
       "      <th>587</th>\n",
       "      <td>588</td>\n",
       "      <td>[(3, 3.0), (6, 5.0), (10, 3.0), (16, 4.0), (20, 2.0), (21, 3.0), (22, 3.0), (25, 3.0), (36, 2.0), (42, 3.0), (47, 3.0), (50, 5.0), (110, 5.0), (147, 3.0), (150, 3.0), (161, 4.0), (163, 3.0), (165, 4.0), (175, 4.0), (185, 1.0), (198, 3.0), (204, 2.0), (208, 2.0), (217, 1.0), (223, 5.0), (225, 3.0), (231, 2.0), (253, 2.0), (288, 3.0), (292, 3.0), (296, 5.0), (300, 4.0), (316, 2.0), (318, 5.0), (...</td>\n",
       "    </tr>\n",
       "    <tr>\n",
       "      <th>588</th>\n",
       "      <td>589</td>\n",
       "      <td>[(25, 5.0), (36, 5.0), (111, 5.0), (150, 4.0), (161, 3.0), (185, 3.0), (193, 3.0), (231, 4.0), (235, 4.0), (246, 5.0), (282, 4.0), (296, 5.0), (300, 3.0), (318, 5.0), (337, 5.0), (342, 4.0), (350, 3.0), (356, 5.0), (357, 4.0), (373, 4.0), (376, 5.0), (454, 4.0), (481, 4.0), (508, 4.0), (509, 4.0), (527, 5.0), (529, 3.0), (531, 3.0), (586, 3.0), (587, 5.0), (590, 5.0), (593, 5.0), (733, 2.0), (...</td>\n",
       "    </tr>\n",
       "    <tr>\n",
       "      <th>589</th>\n",
       "      <td>590</td>\n",
       "      <td>[(1, 4.0), (2, 2.5), (3, 3.0), (5, 2.0), (6, 3.5), (10, 3.5), (11, 3.0), (17, 3.5), (19, 2.0), (32, 3.0), (36, 3.5), (47, 3.0), (50, 4.5), (104, 3.5), (110, 4.0), (111, 4.0), (150, 4.5), (153, 2.5), (161, 4.0), (163, 3.0), (165, 3.0), (168, 3.0), (186, 2.5), (193, 2.0), (196, 2.5), (216, 2.0), (231, 2.0), (260, 5.0), (277, 3.0), (296, 4.5), (303, 3.0), (317, 3.0), (318, 4.5), (329, 3.0), (333,...</td>\n",
       "    </tr>\n",
       "  </tbody>\n",
       "</table>\n",
       "<p>590 rows × 2 columns</p>\n",
       "</div>"
      ],
      "text/plain": [
       "     userId  \\\n",
       "0         1   \n",
       "1         2   \n",
       "2         3   \n",
       "3         4   \n",
       "4         5   \n",
       "..      ...   \n",
       "585     586   \n",
       "586     587   \n",
       "587     588   \n",
       "588     589   \n",
       "589     590   \n",
       "\n",
       "                                                                                                                                                                                                                                                                                                                                                                                                      (Movie,Rating)  \n",
       "0    [(1, 4.0), (3, 4.0), (6, 4.0), (47, 5.0), (50, 5.0), (70, 3.0), (101, 5.0), (110, 4.0), (151, 5.0), (157, 5.0), (163, 5.0), (216, 5.0), (223, 3.0), (231, 5.0), (235, 4.0), (260, 5.0), (296, 3.0), (316, 3.0), (333, 5.0), (349, 4.0), (356, 4.0), (362, 5.0), (367, 4.0), (423, 3.0), (441, 4.0), (457, 5.0), (480, 4.0), (500, 3.0), (527, 5.0), (543, 4.0), (552, 4.0), (553, 5.0), (590, 4.0), (592, 4....  \n",
       "1    [(318, 3.0), (333, 4.0), (1704, 4.5), (3578, 4.0), (6874, 4.0), (8798, 3.5), (46970, 4.0), (48516, 4.0), (58559, 4.5), (60756, 5.0), (68157, 4.5), (71535, 3.0), (74458, 4.0), (77455, 3.0), (79132, 4.0), (80489, 4.5), (80906, 5.0), (86345, 4.0), (89774, 5.0), (91529, 3.5), (91658, 2.5), (99114, 3.5), (106782, 5.0), (109487, 3.0), (112552, 4.0), (114060, 2.0), (115713, 3.5), (122882, 5.0), (1317...  \n",
       "2    [(31, 0.5), (527, 0.5), (647, 0.5), (688, 0.5), (720, 0.5), (849, 5.0), (914, 0.5), (1093, 0.5), (1124, 0.5), (1263, 0.5), (1272, 0.5), (1275, 3.5), (1302, 0.5), (1371, 3.0), (1587, 4.5), (2018, 0.5), (2080, 0.5), (2090, 0.5), (2105, 2.0), (2288, 4.0), (2424, 0.5), (2851, 5.0), (3024, 4.5), (3210, 0.5), (3703, 5.0), (3949, 0.5), (4518, 5.0), (5048, 0.5), (5181, 5.0), (5746, 5.0), (5764, 4.5), ...  \n",
       "3    [(21, 3.0), (32, 2.0), (45, 3.0), (47, 2.0), (52, 3.0), (58, 3.0), (106, 4.0), (125, 5.0), (126, 1.0), (162, 5.0), (171, 3.0), (176, 5.0), (190, 2.0), (215, 5.0), (222, 1.0), (232, 5.0), (235, 2.0), (247, 3.0), (260, 5.0), (265, 5.0), (296, 1.0), (319, 5.0), (342, 5.0), (345, 4.0), (348, 4.0), (351, 3.0), (357, 3.0), (368, 4.0), (417, 2.0), (441, 1.0), (450, 2.0), (457, 5.0), (475, 5.0), (492,...  \n",
       "4    [(1, 4.0), (21, 4.0), (34, 4.0), (36, 4.0), (39, 3.0), (50, 4.0), (58, 5.0), (110, 4.0), (150, 3.0), (153, 3.0), (232, 4.0), (247, 5.0), (253, 3.0), (261, 4.0), (265, 3.0), (266, 1.0), (290, 5.0), (296, 5.0), (300, 3.0), (316, 2.0), (318, 3.0), (344, 3.0), (349, 3.0), (357, 2.0), (364, 3.0), (367, 4.0), (380, 2.0), (410, 3.0), (457, 4.0), (474, 4.0), (475, 5.0), (515, 3.0), (527, 5.0), (531, 4...  \n",
       "..                                                                                                                                                                                                                                                                                                                                                                                                               ...  \n",
       "585  [(2, 4.0), (110, 5.0), (161, 4.5), (168, 3.5), (185, 3.5), (260, 4.5), (316, 4.0), (318, 5.0), (339, 4.0), (368, 4.0), (380, 4.5), (440, 4.0), (457, 4.5), (527, 2.5), (539, 3.5), (553, 4.5), (587, 4.0), (588, 4.5), (589, 5.0), (733, 4.0), (786, 4.0), (832, 4.0), (858, 3.0), (1073, 4.5), (1097, 4.0), (1196, 4.5), (1198, 5.0), (1200, 5.0), (1210, 4.5), (1221, 3.0), (1265, 4.5), (1270, 4.5), (129...  \n",
       "586  [(1, 5.0), (11, 4.0), (21, 4.0), (32, 5.0), (50, 5.0), (58, 5.0), (141, 4.0), (153, 3.0), (205, 3.0), (235, 4.0), (236, 5.0), (252, 4.0), (296, 5.0), (329, 4.0), (342, 4.0), (344, 3.0), (345, 4.0), (356, 4.0), (357, 3.0), (372, 4.0), (380, 4.0), (432, 4.0), (440, 4.0), (445, 4.0), (497, 4.0), (500, 5.0), (515, 5.0), (534, 4.0), (539, 4.0), (587, 5.0), (590, 5.0), (597, 4.0), (628, 5.0), (691, ...  \n",
       "587  [(3, 3.0), (6, 5.0), (10, 3.0), (16, 4.0), (20, 2.0), (21, 3.0), (22, 3.0), (25, 3.0), (36, 2.0), (42, 3.0), (47, 3.0), (50, 5.0), (110, 5.0), (147, 3.0), (150, 3.0), (161, 4.0), (163, 3.0), (165, 4.0), (175, 4.0), (185, 1.0), (198, 3.0), (204, 2.0), (208, 2.0), (217, 1.0), (223, 5.0), (225, 3.0), (231, 2.0), (253, 2.0), (288, 3.0), (292, 3.0), (296, 5.0), (300, 4.0), (316, 2.0), (318, 5.0), (...  \n",
       "588  [(25, 5.0), (36, 5.0), (111, 5.0), (150, 4.0), (161, 3.0), (185, 3.0), (193, 3.0), (231, 4.0), (235, 4.0), (246, 5.0), (282, 4.0), (296, 5.0), (300, 3.0), (318, 5.0), (337, 5.0), (342, 4.0), (350, 3.0), (356, 5.0), (357, 4.0), (373, 4.0), (376, 5.0), (454, 4.0), (481, 4.0), (508, 4.0), (509, 4.0), (527, 5.0), (529, 3.0), (531, 3.0), (586, 3.0), (587, 5.0), (590, 5.0), (593, 5.0), (733, 2.0), (...  \n",
       "589  [(1, 4.0), (2, 2.5), (3, 3.0), (5, 2.0), (6, 3.5), (10, 3.5), (11, 3.0), (17, 3.5), (19, 2.0), (32, 3.0), (36, 3.5), (47, 3.0), (50, 4.5), (104, 3.5), (110, 4.0), (111, 4.0), (150, 4.5), (153, 2.5), (161, 4.0), (163, 3.0), (165, 3.0), (168, 3.0), (186, 2.5), (193, 2.0), (196, 2.5), (216, 2.0), (231, 2.0), (260, 5.0), (277, 3.0), (296, 4.5), (303, 3.0), (317, 3.0), (318, 4.5), (329, 3.0), (333,...  \n",
       "\n",
       "[590 rows x 2 columns]"
      ]
     },
     "execution_count": 56,
     "metadata": {},
     "output_type": "execute_result"
    }
   ],
   "source": [
    "cfItemItem.load_ratings_by_user()\n",
    "df = cfItemItem.ratings_by_user.toDF().toPandas()\n",
    "df.columns = [\"userId\",\"(Movie,Rating)\"]\n",
    "df"
   ]
  },
  {
   "cell_type": "markdown",
   "id": "86d40bfd-fb13-4c30-9398-923162716c0c",
   "metadata": {},
   "source": [
    "### Create Movie Ratings Array By Movie  \n",
    "Creates an array of ratings per movie  \n",
    "If a user has not given a rating, the rating in the array is 0.0  \n",
    "Each entry in the movie_ratings array is of the sort:  \n",
    "> movie = [ratingOfUser1, ratingOfUser2, ratingOfUser3, ratingOfUser4...]   \n",
    "\n",
    "Creates an array of users who rated each movie\n",
    "> movie = [userId1, userId2, userid3,...]  \n"
   ]
  },
  {
   "cell_type": "code",
   "execution_count": 57,
   "id": "6d5016d8-84e4-40a0-88dc-8dc895cc50c4",
   "metadata": {},
   "outputs": [],
   "source": [
    "%%add_to CFItemItem \n",
    "def create_movie_ratings_arrays(self):\n",
    "    self.movie_ratings = dict()\n",
    "    self.movie_ratings_userlist = dict()\n",
    "    for movie, m_rating_list in self.ratings.collect():\n",
    "        ratings = {k[0]:k[1] for k in m_rating_list}\n",
    "        avg = sum(ratings.values())/len(ratings)\n",
    "        self.movie_ratings[movie] = [ratings[u+1]-avg if u+1 in ratings else 0 for u in range(self.max_user_id)]\n",
    "        self.movie_ratings_userlist[movie] = [k[0] for k in m_rating_list]"
   ]
  },
  {
   "cell_type": "code",
   "execution_count": 58,
   "id": "9f3e63f0-50fc-46a8-bf30-3cc2e5141324",
   "metadata": {},
   "outputs": [
    {
     "name": "stdout",
     "output_type": "stream",
     "text": [
      "1      ['0.0520', '0.0000', '0.0000', '0.0000', '0.0520', '0.0000', '0.5520', '0.0000', '0.0000', '0.0000'] ...\n",
      "10     ['0.0000', '0.0000', '0.0000', '0.0000', '0.0000', '-0.5000', '0.0000', '-1.5000', '0.0000', '0.0000'] ...\n",
      "100    ['0.0000', '0.0000', '0.0000', '0.0000', '0.0000', '0.1667', '0.0000', '0.0000', '0.0000', '0.0000'] ...\n",
      "100044 ['0.0000', '0.0000', '0.0000', '0.0000', '0.0000', '0.0000', '0.0000', '0.0000', '0.0000', '0.0000'] ...\n",
      "100068 ['0.0000', '0.0000', '0.0000', '0.0000', '0.0000', '0.0000', '0.0000', '0.0000', '0.0000', '0.0000'] ...\n",
      "100083 ['0.0000', '0.0000', '0.0000', '0.0000', '0.0000', '0.0000', '0.0000', '0.0000', '0.0000', '0.0000'] ...\n",
      "100106 ['0.0000', '0.0000', '0.0000', '0.0000', '0.0000', '0.0000', '0.0000', '0.0000', '0.0000', '0.0000'] ...\n",
      "100163 ['0.0000', '0.0000', '0.0000', '0.0000', '0.0000', '0.0000', '0.0000', '0.0000', '0.0000', '0.0000'] ...\n",
      "100194 ['0.0000', '0.0000', '0.0000', '0.0000', '0.0000', '0.0000', '0.0000', '0.0000', '0.0000', '0.0000'] ...\n",
      "100226 ['0.0000', '0.0000', '0.0000', '0.0000', '0.0000', '0.0000', '0.0000', '0.0000', '0.0000', '0.0000'] ...\n"
     ]
    }
   ],
   "source": [
    "cfItemItem.create_movie_ratings_arrays()\n",
    "for movie,ratings  in (list(cfItemItem.movie_ratings.items()))[:10]:\n",
    "    print(\"{:6}\".format(movie),[\"{:.4f}\".format(a) for a in ratings[:10]],\"...\")"
   ]
  },
  {
   "cell_type": "markdown",
   "id": "f551aa7b-2491-4348-9064-47f3fe16b4aa",
   "metadata": {},
   "source": [
    "### Calculate Cosine Similarity for Each Possible Combination of 2 Movies\n",
    "Creates all movie pair combinations and calculates the cosine similarity between both movies using the previously calculated movie_ratings array   \n",
    "Because there will be many pairs, the calculated similarities  are saved in partitions of self.part_size"
   ]
  },
  {
   "cell_type": "code",
   "execution_count": 146,
   "id": "f6b1428c-1d50-4bf3-8d9b-d7b7d760dc9e",
   "metadata": {},
   "outputs": [],
   "source": [
    "%%add_to CFItemItem \n",
    "def saveRdd(self, sims, fileN):\n",
    "    similarities = self.spark.parallelize(sims).sortBy(lambda p: p[2])\n",
    "    lines =  similarities.map(lambda data: ','.join(str(d) for d in data))    # map to CSV format\n",
    "    lines.coalesce(1).saveAsTextFile(\"{0}/{1}\".format(self.output_folder, \"similarities/partition\"+str(int(fileN))))        \n",
    "\n",
    "    \n",
    "def calculate_cosine_similarity(self):\n",
    "    print(\"Starting Cosine Similarity Calculator\")\n",
    "    sims = []\n",
    "    mv_list = list(self.movie_ratings_userlist.keys())\n",
    "    \n",
    "    all_movie_combs = list(combinations(mv_list,2))           #Get all combinations\n",
    "    t = time.time()\n",
    "    i= 0\n",
    "    for (m1,m2) in all_movie_combs:\n",
    "        #Get all user who rated both movies\n",
    "        intersection = [x for x in self.movie_ratings_userlist[m1] if x in  self.movie_ratings_userlist[m2]] \n",
    "        if len(intersection)>0:\n",
    "            # Creates a list of ratings only from the users who rated both movies\n",
    "            lu1 = [self.movie_ratings[m1][int(i)-1] for i in intersection]\n",
    "            lu2 = [self.movie_ratings[m2][int(i)-1] for i in intersection]\n",
    "\n",
    "            # Use of scipy spatial distance cosine to calculate similarity\n",
    "            sims += [(m1,m2, 1-spatial.distance.cosine(lu1,lu2))]\n",
    "            if i%self.partition_size==0: \n",
    "                if (i!=0): self.saveRdd(sims, (i/self.partition_size))\n",
    "                sims = []\n",
    "            i+=1\n",
    "\n",
    "    fn = math.ceil(i/100000)\n",
    "    self.saveRdd(sims, fn)\n",
    "    print(\"Finished Calculating Similarities in \",time.time()-t,\"s\")\n",
    "    print(\"Average\",\"{:.2f}\".format(i/(time.time()-t)),\"Similarities Calculated per Second\")\n",
    "    print(\"Results saved in \",fn,\" partitions\")"
   ]
  },
  {
   "cell_type": "code",
   "execution_count": 147,
   "id": "b3532bbd-2ea4-445f-a7bb-268de31c4059",
   "metadata": {},
   "outputs": [
    {
     "name": "stdout",
     "output_type": "stream",
     "text": [
      "Starting Cosine Similarity Calculator\n"
     ]
    },
    {
     "name": "stderr",
     "output_type": "stream",
     "text": [
      "/home/pedromarques27/anaconda3/lib/python3.9/site-packages/scipy/spatial/distance.py:699: RuntimeWarning: invalid value encountered in double_scalars\n",
      "  dist = 1.0 - uv / np.sqrt(uu * vv)\n",
      "                                                                                \r"
     ]
    },
    {
     "name": "stdout",
     "output_type": "stream",
     "text": [
      "Finished Calculating Similarities in  642.0745890140533 s\n",
      "Average 16745.44 Similarities Calculated per Second\n",
      "Results saved in  108  partitions\n"
     ]
    }
   ],
   "source": [
    "cfItemItem.clear_output_folder()      \n",
    "cfItemItem.calculate_cosine_similarity()"
   ]
  },
  {
   "cell_type": "markdown",
   "id": "b79a4494-3430-44e9-b275-abb523231fe3",
   "metadata": {},
   "source": [
    "## Load all similarity records partitions from memory"
   ]
  },
  {
   "cell_type": "code",
   "execution_count": 59,
   "id": "e33d318c-3616-45ae-8050-ffa35a5f91eb",
   "metadata": {},
   "outputs": [],
   "source": [
    "%%add_to CFItemItem \n",
    "def load_similarity(self):\n",
    "    t = time.time()\n",
    "    all_files_to_load = [x[0]+\"/part-00000\" for x in os.walk(\"CFItemItem/similarities\")][1:]\n",
    "\n",
    "    extfile = self.spark.textFile(','.join(all_files_to_load))\n",
    "\n",
    "    # Load CSV saved as txt file\n",
    "    self.similarities = extfile.flatMap(lambda line: re.split(r'\\n', line.lower())) \\\n",
    "                            .filter(lambda line: len(line.split(\",\"))== 3 )\\\n",
    "                            .map(lambda pair : (int(pair.split(\",\")[0]),int(pair.split(\",\")[1]),float(pair.split(\",\")[2]))) \\\n",
    "                                .sortBy(lambda p: p[1])\n",
    "\n",
    "    print(len(all_files_to_load), \" Partitions loaded in\",\"{:.2f}\".format(time.time()-t),\" seconds\")"
   ]
  },
  {
   "cell_type": "code",
   "execution_count": 60,
   "id": "740b276f-310c-4a9a-ad96-3203d36338ac",
   "metadata": {},
   "outputs": [
    {
     "name": "stderr",
     "output_type": "stream",
     "text": [
      "[Stage 152:====================================================>(107 + 1) / 108]\r"
     ]
    },
    {
     "name": "stdout",
     "output_type": "stream",
     "text": [
      "108  Partitions loaded in 30.59  seconds\n"
     ]
    },
    {
     "name": "stderr",
     "output_type": "stream",
     "text": [
      "                                                                                \r"
     ]
    }
   ],
   "source": [
    "cfItemItem.load_similarity()"
   ]
  },
  {
   "cell_type": "markdown",
   "id": "5a635c27-2e58-41c6-850a-a60e597a2d1d",
   "metadata": {},
   "source": [
    "### Estimate Rating for Movies by Certain Users\n",
    "Using all previously calculated similarity values between pairs of movies, estimate the rating of one user to a certain movie  \n",
    "**Steps**\n",
    "> For each user, get movies which have not been rated  \n",
    "> For each one of those movies, find similar ones from the list of movies which have been rated by the user  \n",
    "> Predict by taking Weighted Average  "
   ]
  },
  {
   "cell_type": "code",
   "execution_count": 61,
   "id": "4149901b-69bd-478a-9969-e41e886597a5",
   "metadata": {},
   "outputs": [],
   "source": [
    "%%add_to CFItemItem \n",
    "def estimate_rating(self):\n",
    "    if os.path.exists(\"{0}/{1}\".format(self.output_folder,self.output_file)):\n",
    "        shutil.rmtree(\"{0}/{1}\".format(self.output_folder,self.output_file))\n",
    "    self.estimate = []\n",
    "\n",
    "    has_similars = []\n",
    "    sims = dict()\n",
    "    self.results = dict()\n",
    "    for x in self.similarities.collect():\n",
    "        if x[2]>self.sim_threshold:\n",
    "            has_similars += [x[0],x[1]]\n",
    "            sims[(x[0],x[1])] = x[2]\n",
    "            sims[(x[1],x[0])] = x[2]\n",
    "\n",
    "\n",
    "    print(\"Started Collecting Data\")\n",
    "    dataset = self.ratings_by_user.collect()\n",
    "    t2 = time.time()\n",
    "\n",
    "    sims_items = sims.items()\n",
    "    print(\"Started Calculating Estimations\")\n",
    "    i=0\n",
    "    for user, ratings in dataset:\n",
    "        # for each user\n",
    "        # Get All movies which have similarities movie:rating\n",
    "        t1 = time.time()\n",
    "        ratings_by_movie = {int(k[0]):k[1] for k in ratings if int(k[0]) in has_similars}\n",
    "        # Get Similarities between rated movies and unrated movies (rated,unrated) = similarity\n",
    "        filtered = {k:v for k,v in sims_items if k[0] in ratings_by_movie and k[1] not in ratings_by_movie}\n",
    "\n",
    "        #Set of all unrated movies which can be estimated\n",
    "        for movie in list(set([k[1] for k in filtered])):\n",
    "            # Get all movies rated by user which are similar to movie\n",
    "            can_count = [m for m in ratings_by_movie if (m,movie) in filtered]\n",
    "            # If there is more that 0 movies\n",
    "            if len(can_count)>0:\n",
    "                weighted_sum = sum([filtered[(m, movie)]*ratings_by_movie[m] for m in can_count])\n",
    "                sum_of_weights = sum([filtered[(m, movie)] for m in can_count])\n",
    "                rating = weighted_sum/sum_of_weights \n",
    "                self.estimate.append((movie, user, rating))\n",
    "                i+=1\n",
    "    final_t = time.time()-t2\n",
    "    print(i,\" rating estimations calculated in\", \"{:.2f}\".format(final_t),\"seconds\")\n",
    "    print(\"Average throughput of \",\"{:.2f}\".format(i/final_t), \"calculation per second\")\n",
    "    resultsRdd = self.spark.parallelize(self.estimate).sortBy(lambda p: p[0])\n",
    "    lines =  resultsRdd.map(lambda data: ';'.join(str(d) for d in data))    # map to CSV format\n",
    "    lines.saveAsTextFile(\"{0}/{1}\".format(self.output_folder,self.output_file)) "
   ]
  },
  {
   "cell_type": "code",
   "execution_count": 62,
   "id": "671a7f73-dd7d-42bb-8566-43df22a64c8c",
   "metadata": {},
   "outputs": [
    {
     "name": "stderr",
     "output_type": "stream",
     "text": [
      "                                                                                \r"
     ]
    },
    {
     "name": "stdout",
     "output_type": "stream",
     "text": [
      "Started Collecting Data\n",
      "Started Calculating Estimations\n",
      "5089284  rating estimations calculated in 1076.02 seconds\n",
      "Average throughput of  4729.73 calculation per second\n"
     ]
    },
    {
     "name": "stderr",
     "output_type": "stream",
     "text": [
      "                                                                                \r"
     ]
    }
   ],
   "source": [
    "cfItemItem.estimate_rating()"
   ]
  },
  {
   "cell_type": "markdown",
   "id": "5e380b25-41ae-4713-bd88-07f93c67e491",
   "metadata": {},
   "source": [
    "## Evaluation  \n",
    "The pipeline.py algorithm split the records and stored 10% in totest.csv\n"
   ]
  },
  {
   "cell_type": "code",
   "execution_count": 63,
   "id": "67bf7a4d-2dd2-47e8-93a3-f0b2cf6a245e",
   "metadata": {},
   "outputs": [
    {
     "data": {
      "text/html": [
       "<div>\n",
       "<style scoped>\n",
       "    .dataframe tbody tr th:only-of-type {\n",
       "        vertical-align: middle;\n",
       "    }\n",
       "\n",
       "    .dataframe tbody tr th {\n",
       "        vertical-align: top;\n",
       "    }\n",
       "\n",
       "    .dataframe thead th {\n",
       "        text-align: right;\n",
       "    }\n",
       "</style>\n",
       "<table border=\"1\" class=\"dataframe\">\n",
       "  <thead>\n",
       "    <tr style=\"text-align: right;\">\n",
       "      <th></th>\n",
       "      <th>MovieId</th>\n",
       "      <th>(UserId,Rating)</th>\n",
       "    </tr>\n",
       "  </thead>\n",
       "  <tbody>\n",
       "    <tr>\n",
       "      <th>0</th>\n",
       "      <td>1</td>\n",
       "      <td>[(596, 4.0), (597, 4.0), (599, 3.0), (600, 2.5), (601, 4.0), (603, 4.0), (604, 3.0), (605, 4.0), (606, 2.5), (607, 4.0), (608, 2.5), (609, 3.0), (610, 5.0)]</td>\n",
       "    </tr>\n",
       "    <tr>\n",
       "      <th>1</th>\n",
       "      <td>10</td>\n",
       "      <td>[(592, 3.0), (597, 3.0), (599, 3.5), (602, 3.0), (608, 4.0), (609, 4.0)]</td>\n",
       "    </tr>\n",
       "    <tr>\n",
       "      <th>2</th>\n",
       "      <td>100</td>\n",
       "      <td>[(599, 2.0), (602, 3.0)]</td>\n",
       "    </tr>\n",
       "    <tr>\n",
       "      <th>3</th>\n",
       "      <td>100083</td>\n",
       "      <td>[(610, 3.5)]</td>\n",
       "    </tr>\n",
       "    <tr>\n",
       "      <th>4</th>\n",
       "      <td>100159</td>\n",
       "      <td>[(610, 4.5)]</td>\n",
       "    </tr>\n",
       "    <tr>\n",
       "      <th>...</th>\n",
       "      <td>...</td>\n",
       "      <td>...</td>\n",
       "    </tr>\n",
       "    <tr>\n",
       "      <th>4728</th>\n",
       "      <td>99721</td>\n",
       "      <td>[(610, 1.5)]</td>\n",
       "    </tr>\n",
       "    <tr>\n",
       "      <th>4729</th>\n",
       "      <td>998</td>\n",
       "      <td>[(597, 2.0)]</td>\n",
       "    </tr>\n",
       "    <tr>\n",
       "      <th>4730</th>\n",
       "      <td>99813</td>\n",
       "      <td>[(599, 3.0)]</td>\n",
       "    </tr>\n",
       "    <tr>\n",
       "      <th>4731</th>\n",
       "      <td>999</td>\n",
       "      <td>[(599, 3.0)]</td>\n",
       "    </tr>\n",
       "    <tr>\n",
       "      <th>4732</th>\n",
       "      <td>99917</td>\n",
       "      <td>[(599, 3.0), (610, 3.0)]</td>\n",
       "    </tr>\n",
       "  </tbody>\n",
       "</table>\n",
       "<p>4733 rows × 2 columns</p>\n",
       "</div>"
      ],
      "text/plain": [
       "     MovieId  \\\n",
       "0          1   \n",
       "1         10   \n",
       "2        100   \n",
       "3     100083   \n",
       "4     100159   \n",
       "...      ...   \n",
       "4728   99721   \n",
       "4729     998   \n",
       "4730   99813   \n",
       "4731     999   \n",
       "4732   99917   \n",
       "\n",
       "                                                                                                                                                   (UserId,Rating)  \n",
       "0     [(596, 4.0), (597, 4.0), (599, 3.0), (600, 2.5), (601, 4.0), (603, 4.0), (604, 3.0), (605, 4.0), (606, 2.5), (607, 4.0), (608, 2.5), (609, 3.0), (610, 5.0)]  \n",
       "1                                                                                         [(592, 3.0), (597, 3.0), (599, 3.5), (602, 3.0), (608, 4.0), (609, 4.0)]  \n",
       "2                                                                                                                                         [(599, 2.0), (602, 3.0)]  \n",
       "3                                                                                                                                                     [(610, 3.5)]  \n",
       "4                                                                                                                                                     [(610, 4.5)]  \n",
       "...                                                                                                                                                            ...  \n",
       "4728                                                                                                                                                  [(610, 1.5)]  \n",
       "4729                                                                                                                                                  [(597, 2.0)]  \n",
       "4730                                                                                                                                                  [(599, 3.0)]  \n",
       "4731                                                                                                                                                  [(599, 3.0)]  \n",
       "4732                                                                                                                                      [(599, 3.0), (610, 3.0)]  \n",
       "\n",
       "[4733 rows x 2 columns]"
      ]
     },
     "execution_count": 63,
     "metadata": {},
     "output_type": "execute_result"
    }
   ],
   "source": [
    "textfile = cfItemItem.spark.textFile(\"totest.csv\")\n",
    "test_ratings = textfile.flatMap(lambda line: re.split(r'\\n', line.lower()))\\\n",
    "    .filter(lambda line: len(line.split(\",\"))== 4 and \"movieid\" not in line)\\\n",
    "        .map(lambda line : (line.split(\",\")[1],[(int(line.split(\",\")[0]), float(line.split(\",\")[2]))]))\\\n",
    "            .reduceByKey(lambda a,b: sorted(set(a+b), key = lambda p: p[0]))\\\n",
    "            .sortBy(lambda p: p[0])\n",
    "df = test_ratings.toDF().toPandas()\n",
    "df.columns = [\"MovieId\",\"(UserId,Rating)\"]\n",
    "df"
   ]
  },
  {
   "cell_type": "code",
   "execution_count": 70,
   "id": "20ff1edb-5036-4c0c-8ae4-db89f8cd5ec6",
   "metadata": {},
   "outputs": [],
   "source": [
    "_sum = 0\n",
    "counter = 0\n",
    "to_dict = {int(m):{int(x[0]):float(x[1]) for x in rs} for m,rs in test_ratings.collect()}\n",
    "\n",
    "for movie, user, estimated in cfItemItem.estimate:\n",
    "    if int(movie) in to_dict and int(user) in to_dict[int(movie)]:\n",
    "        _real = to_dict[int(movie)][int(user)]\n",
    "        if counter<10: print(\"Real:\",_real,\"Estimated:\",estimated)\n",
    "        _sum+=(_real-estimated)**2\n",
    "        counter+=1\n",
    "        "
   ]
  },
  {
   "cell_type": "code",
   "execution_count": 71,
   "id": "8c232bef-0fdf-40ed-936d-a275ef553656",
   "metadata": {},
   "outputs": [
    {
     "name": "stdout",
     "output_type": "stream",
     "text": [
      "RMDE 0.813584748534596\n"
     ]
    }
   ],
   "source": [
    "eval = _sum/counter\n",
    "print(\"RMDE\",math.sqrt(eval))"
   ]
  },
  {
   "cell_type": "markdown",
   "id": "5fe95ef1-e344-43ec-9168-1b0faf0afa2f",
   "metadata": {},
   "source": [
    "Although this value is large, it is because we have used a similarity threshold of 0.5 which is "
   ]
  },
  {
   "cell_type": "code",
   "execution_count": 1,
   "id": "4686a090-45b4-44ea-89a5-a592f755012a",
   "metadata": {},
   "outputs": [
    {
     "ename": "NameError",
     "evalue": "name 'cfItemItem' is not defined",
     "output_type": "error",
     "traceback": [
      "\u001b[0;31m---------------------------------------------------------------------------\u001b[0m",
      "\u001b[0;31mNameError\u001b[0m                                 Traceback (most recent call last)",
      "\u001b[0;32m/tmp/ipykernel_47573/2589835754.py\u001b[0m in \u001b[0;36m<module>\u001b[0;34m\u001b[0m\n\u001b[0;32m----> 1\u001b[0;31m \u001b[0mcfItemItem\u001b[0m\u001b[0;34m.\u001b[0m\u001b[0mclose\u001b[0m\u001b[0;34m(\u001b[0m\u001b[0;34m)\u001b[0m\u001b[0;34m\u001b[0m\u001b[0;34m\u001b[0m\u001b[0m\n\u001b[0m",
      "\u001b[0;31mNameError\u001b[0m: name 'cfItemItem' is not defined"
     ]
    }
   ],
   "source": [
    "cfItemItem.close()"
   ]
  },
  {
   "cell_type": "code",
   "execution_count": null,
   "id": "c984db2b-a56d-4331-aab9-3c781534e2f6",
   "metadata": {},
   "outputs": [],
   "source": []
  }
 ],
 "metadata": {
  "kernelspec": {
   "display_name": "Python 3 (ipykernel)",
   "language": "python",
   "name": "python3"
  },
  "language_info": {
   "codemirror_mode": {
    "name": "ipython",
    "version": 3
   },
   "file_extension": ".py",
   "mimetype": "text/x-python",
   "name": "python",
   "nbconvert_exporter": "python",
   "pygments_lexer": "ipython3",
   "version": "3.9.7"
  }
 },
 "nbformat": 4,
 "nbformat_minor": 5
}
